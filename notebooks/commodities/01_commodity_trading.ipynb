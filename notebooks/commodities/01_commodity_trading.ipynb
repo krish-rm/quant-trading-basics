{
 "cells": [
  {
   "cell_type": "code",
   "execution_count": null,
   "metadata": {
    "vscode": {
     "languageId": "plaintext"
    }
   },
   "outputs": [],
   "source": [
    "# 01_commodity_trading.ipynb\n",
    "\n",
    "# Importing necessary libraries\n",
    "import numpy as np\n",
    "import matplotlib.pyplot as plt\n",
    "\n",
    "# Simple Commodity Price Simulation Model (using random walk)\n",
    "def simulate_commodity_prices(initial_price, volatility, days):\n",
    "    \"\"\"\n",
    "    Simulate commodity prices using a random walk\n",
    "    initial_price: Starting price of the commodity\n",
    "    volatility: Daily volatility as a percentage of the price\n",
    "    days: Number of days to simulate\n",
    "    \"\"\"\n",
    "    prices = [initial_price]\n",
    "    for day in range(1, days):\n",
    "        daily_return = np.random.normal(0, volatility)  # Random walk step\n",
    "        price = prices[-1] * (1 + daily_return)\n",
    "        prices.append(price)\n",
    "    return prices\n",
    "\n",
    "# Example parameters for gold\n",
    "initial_price = 1800  # Initial price of gold (USD per ounce)\n",
    "volatility = 0.01  # 1% daily volatility\n",
    "days = 365  # Simulate for 1 year\n",
    "\n",
    "# Simulate commodity prices (gold)\n",
    "commodity_prices = simulate_commodity_prices(initial_price, volatility, days)\n",
    "\n",
    "# Plot the simulated commodity price trajectory\n",
    "plt.plot(range(days), commodity_prices)\n",
    "plt.title('Simulated Commodity Price (Gold)')\n",
    "plt.xlabel('Days')\n",
    "plt.ylabel('Price (USD)')\n",
    "plt.grid(True)\n",
    "plt.show()\n",
    "\n",
    "# Simple moving average strategy for trading\n",
    "def moving_average_strategy(prices, window_size):\n",
    "    \"\"\"\n",
    "    Simulate a simple moving average trading strategy\n",
    "    prices: List of prices\n",
    "    window_size: The size of the moving average window\n",
    "    \"\"\"\n",
    "    moving_avg = np.convolve(prices, np.ones(window_size)/window_size, mode='valid')\n",
    "    signals = [1 if prices[i] > moving_avg[i-window_size] else 0 for i in range(window_size, len(prices))]\n",
    "    return moving_avg, signals\n",
    "\n",
    "# Apply moving average strategy with a 20-day window\n",
    "moving_avg, signals = moving_average_strategy(commodity_prices, 20)\n",
    "\n",
    "# Plotting commodity price and moving average\n",
    "plt.plot(range(20, days), moving_avg, label=\"20-day Moving Average\")\n",
    "plt.plot(range(days), commodity_prices, label=\"Commodity Price\", alpha=0.5)\n",
    "plt.title('Commodity Price with Moving Average Strategy')\n",
    "plt.xlabel('Days')\n",
    "plt.ylabel('Price (USD)')\n",
    "plt.legend()\n",
    "plt.grid(True)\n",
    "plt.show()\n"
   ]
  }
 ],
 "metadata": {
  "language_info": {
   "name": "python"
  }
 },
 "nbformat": 4,
 "nbformat_minor": 2
}
