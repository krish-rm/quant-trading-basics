{
 "cells": [
  {
   "cell_type": "code",
   "execution_count": null,
   "metadata": {
    "vscode": {
     "languageId": "plaintext"
    }
   },
   "outputs": [],
   "source": [
    "# 03_futures_trading.ipynb\n",
    "\n",
    "# Importing necessary libraries\n",
    "import numpy as np\n",
    "import matplotlib.pyplot as plt\n",
    "\n",
    "# Futures pricing model (simplified)\n",
    "def futures_price(S, r, T):\n",
    "    \"\"\"\n",
    "    S: Spot price of the asset\n",
    "    r: Risk-free interest rate\n",
    "    T: Time to expiration (in years)\n",
    "    \"\"\"\n",
    "    return S * np.exp(r * T)\n",
    "\n",
    "# Example parameters for Apple stock (AAPL)\n",
    "S = 150  # Spot price\n",
    "r = 0.01  # Risk-free rate (1%)\n",
    "T = 30 / 365  # 30 days to expiration\n",
    "\n",
    "# Calculate futures price\n",
    "futures_price_value = futures_price(S, r, T)\n",
    "print(f\"Futures Price: ${futures_price_value:.2f}\")\n",
    "\n",
    "# Plotting the futures price for different times to expiration\n",
    "T_values = np.linspace(0.01, 1, 100)\n",
    "futures_prices = [futures_price(S, r, T) for T in T_values]\n",
    "\n",
    "plt.plot(T_values, futures_prices)\n",
    "plt.title('Futures Price vs Time to Expiration')\n",
    "plt.xlabel('Time to Expiration (years)')\n",
    "plt.ylabel('Futures Price')\n",
    "plt.grid(True)\n",
    "plt.show()\n"
   ]
  }
 ],
 "metadata": {
  "language_info": {
   "name": "python"
  }
 },
 "nbformat": 4,
 "nbformat_minor": 2
}
