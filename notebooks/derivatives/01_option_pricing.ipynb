{
 "cells": [
  {
   "cell_type": "code",
   "execution_count": null,
   "metadata": {
    "vscode": {
     "languageId": "plaintext"
    }
   },
   "outputs": [],
   "source": [
    "# 01_option_pricing.ipynb\n",
    "\n",
    "# Importing necessary libraries\n",
    "import numpy as np\n",
    "import matplotlib.pyplot as plt\n",
    "import scipy.stats as stats\n",
    "\n",
    "# Black-Scholes Option Pricing Model Function\n",
    "def black_scholes_call(S, K, T, r, sigma):\n",
    "    \"\"\"\n",
    "    S: Spot price of the asset\n",
    "    K: Strike price\n",
    "    T: Time to expiration (in years)\n",
    "    r: Risk-free interest rate\n",
    "    sigma: Volatility of the asset\n",
    "    \"\"\"\n",
    "    # Calculate d1 and d2\n",
    "    d1 = (np.log(S / K) + (r + 0.5 * sigma ** 2) * T) / (sigma * np.sqrt(T))\n",
    "    d2 = d1 - sigma * np.sqrt(T)\n",
    "    \n",
    "    # Calculate option price (call)\n",
    "    call_price = S * stats.norm.cdf(d1) - K * np.exp(-r * T) * stats.norm.cdf(d2)\n",
    "    \n",
    "    return call_price\n",
    "\n",
    "# Example parameters for Apple stock (AAPL)\n",
    "S = 150  # Spot price\n",
    "K = 155  # Strike price\n",
    "T = 30 / 365  # 30 days to expiration\n",
    "r = 0.01  # Risk-free rate (1%)\n",
    "sigma = 0.2  # Volatility (20%)\n",
    "\n",
    "# Calculate call option price\n",
    "call_price = black_scholes_call(S, K, T, r, sigma)\n",
    "print(f\"Call Option Price: ${call_price:.2f}\")\n",
    "\n",
    "# Plotting the option price for different strike prices\n",
    "K_values = np.linspace(100, 200, 100)\n",
    "call_prices = [black_scholes_call(S, K, T, r, sigma) for K in K_values]\n",
    "\n",
    "plt.plot(K_values, call_prices)\n",
    "plt.title('Call Option Price vs Strike Price')\n",
    "plt.xlabel('Strike Price')\n",
    "plt.ylabel('Call Option Price')\n",
    "plt.grid(True)\n",
    "plt.show()\n"
   ]
  }
 ],
 "metadata": {
  "language_info": {
   "name": "python"
  }
 },
 "nbformat": 4,
 "nbformat_minor": 2
}
