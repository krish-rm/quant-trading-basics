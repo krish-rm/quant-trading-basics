{
 "cells": [
  {
   "cell_type": "code",
   "execution_count": null,
   "metadata": {
    "vscode": {
     "languageId": "plaintext"
    }
   },
   "outputs": [],
   "source": [
    "# 02_black_scholes_model.ipynb\n",
    "\n",
    "# Importing necessary libraries\n",
    "import numpy as np\n",
    "import scipy.stats as stats\n",
    "import matplotlib.pyplot as plt\n",
    "\n",
    "# Black-Scholes Option Pricing Model Function for Call and Put Options\n",
    "def black_scholes(S, K, T, r, sigma, option_type='call'):\n",
    "    \"\"\"\n",
    "    S: Spot price of the asset\n",
    "    K: Strike price\n",
    "    T: Time to expiration (in years)\n",
    "    r: Risk-free interest rate\n",
    "    sigma: Volatility of the asset\n",
    "    option_type: 'call' or 'put' (default is 'call')\n",
    "    \"\"\"\n",
    "    # Calculate d1 and d2\n",
    "    d1 = (np.log(S / K) + (r + 0.5 * sigma ** 2) * T) / (sigma * np.sqrt(T))\n",
    "    d2 = d1 - sigma * np.sqrt(T)\n",
    "    \n",
    "    if option_type == 'call':\n",
    "        option_price = S * stats.norm.cdf(d1) - K * np.exp(-r * T) * stats.norm.cdf(d2)\n",
    "    elif option_type == 'put':\n",
    "        option_price = K * np.exp(-r * T) * stats.norm.cdf(-d2) - S * stats.norm.cdf(-d1)\n",
    "    else:\n",
    "        raise ValueError(\"Invalid option type. Use 'call' or 'put'.\")\n",
    "    \n",
    "    return option_price\n",
    "\n",
    "# Example parameters for Apple stock (AAPL)\n",
    "S = 150  # Spot price\n",
    "K = 155  # Strike price\n",
    "T = 30 / 365  # 30 days to expiration\n",
    "r = 0.01  # Risk-free rate (1%)\n",
    "sigma = 0.2  # Volatility (20%)\n",
    "\n",
    "# Calculate the call and put option prices\n",
    "call_price = black_scholes(S, K, T, r, sigma, 'call')\n",
    "put_price = black_scholes(S, K, T, r, sigma, 'put')\n",
    "\n",
    "print(f\"Call Option Price: ${call_price:.2f}\")\n",
    "print(f\"Put Option Price: ${put_price:.2f}\")\n",
    "\n",
    "# Plotting the option price for varying volatility\n",
    "sigmas = np.linspace(0.1, 0.5, 100)\n",
    "call_prices = [black_scholes(S, K, T, r, sigma) for sigma in sigmas]\n",
    "\n",
    "plt.plot(sigmas, call_prices)\n",
    "plt.title('Call Option Price vs Volatility')\n",
    "plt.xlabel('Volatility')\n",
    "plt.ylabel('Call Option Price')\n",
    "plt.grid(True)\n",
    "plt.show()\n"
   ]
  }
 ],
 "metadata": {
  "language_info": {
   "name": "python"
  }
 },
 "nbformat": 4,
 "nbformat_minor": 2
}
