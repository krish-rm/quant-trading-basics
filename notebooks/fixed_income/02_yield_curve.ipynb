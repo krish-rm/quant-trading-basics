{
 "cells": [
  {
   "cell_type": "code",
   "execution_count": null,
   "metadata": {
    "vscode": {
     "languageId": "plaintext"
    }
   },
   "outputs": [],
   "source": [
    "# 02_yield_curve.ipynb\n",
    "\n",
    "# Importing necessary libraries\n",
    "import numpy as np\n",
    "import matplotlib.pyplot as plt\n",
    "\n",
    "# Function to calculate the yield to maturity of a bond\n",
    "def yield_to_maturity(face_value, coupon_rate, periods, price):\n",
    "    \"\"\"\n",
    "    face_value: Face value of the bond\n",
    "    coupon_rate: Annual coupon rate\n",
    "    periods: Number of periods (years)\n",
    "    price: Current bond price\n",
    "    \"\"\"\n",
    "    coupon = face_value * coupon_rate\n",
    "    # Approximation of yield to maturity using trial and error\n",
    "    guess_rate = 0.05  # Initial guess for the yield rate\n",
    "    for i in range(1000):\n",
    "        estimated_price = sum([coupon / (1 + guess_rate) ** t for t in range(1, periods + 1)]) + face_value / (1 + guess_rate) ** periods\n",
    "        if abs(estimated_price - price) < 1e-2:\n",
    "            break\n",
    "        guess_rate += 0.0001\n",
    "    \n",
    "    return guess_rate\n",
    "\n",
    "# Example bond parameters\n",
    "face_value = 1000\n",
    "coupon_rate = 0.05  # 5% coupon\n",
    "periods = 10\n",
    "price = 950  # Price below face value, implying a higher yield\n",
    "\n",
    "# Calculate yield to maturity\n",
    "ytm = yield_to_maturity(face_value, coupon_rate, periods, price)\n",
    "print(f\"Yield to Maturity: {ytm * 100:.2f}%\")\n",
    "\n",
    "# Simulating a yield curve with different bond prices and maturities\n",
    "maturities = np.arange(1, 21)  # Bond maturities from 1 to 20 years\n",
    "yields = [yield_to_maturity(face_value, coupon_rate, maturity, price) for maturity in maturities]\n",
    "\n",
    "plt.plot(maturities, yields)\n",
    "plt.title('Yield Curve')\n",
    "plt.xlabel('Maturity (years)')\n",
    "plt.ylabel('Yield to Maturity')\n",
    "plt.grid(True)\n",
    "plt.show()\n"
   ]
  }
 ],
 "metadata": {
  "language_info": {
   "name": "python"
  }
 },
 "nbformat": 4,
 "nbformat_minor": 2
}
