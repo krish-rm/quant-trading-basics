{
 "cells": [
  {
   "cell_type": "code",
   "execution_count": null,
   "metadata": {
    "vscode": {
     "languageId": "plaintext"
    }
   },
   "outputs": [],
   "source": [
    "# 01_bond_pricing.ipynb\n",
    "\n",
    "# Importing necessary libraries\n",
    "import numpy as np\n",
    "import matplotlib.pyplot as plt\n",
    "\n",
    "# Bond Pricing Function\n",
    "def bond_price(face_value, coupon_rate, periods, r):\n",
    "    \"\"\"\n",
    "    face_value: Face value of the bond\n",
    "    coupon_rate: Annual coupon rate\n",
    "    periods: Number of periods (years)\n",
    "    r: Discount rate (annual)\n",
    "    \"\"\"\n",
    "    coupon = face_value * coupon_rate\n",
    "    present_value_coupons = sum([coupon / (1 + r) ** t for t in range(1, periods + 1)])\n",
    "    present_value_face_value = face_value / (1 + r) ** periods\n",
    "    \n",
    "    return present_value_coupons + present_value_face_value\n",
    "\n",
    "# Example parameters\n",
    "face_value = 1000  # Face value of bond\n",
    "coupon_rate = 0.05  # 5% coupon rate\n",
    "periods = 10  # 10 years to maturity\n",
    "r = 0.03  # 3% discount rate\n",
    "\n",
    "# Calculate bond price\n",
    "price = bond_price(face_value, coupon_rate, periods, r)\n",
    "print(f\"Bond Price: ${price:.2f}\")\n",
    "\n",
    "# Plotting bond price for varying interest rates\n",
    "rates = np.linspace(0.01, 0.1, 100)\n",
    "prices = [bond_price(face_value, coupon_rate, periods, rate) for rate in rates]\n",
    "\n",
    "plt.plot(rates, prices)\n",
    "plt.title('Bond Price vs Interest Rate')\n",
    "plt.xlabel('Interest Rate')\n",
    "plt.ylabel('Bond Price')\n",
    "plt.grid(True)\n",
    "plt.show()\n"
   ]
  }
 ],
 "metadata": {
  "language_info": {
   "name": "python"
  }
 },
 "nbformat": 4,
 "nbformat_minor": 2
}
