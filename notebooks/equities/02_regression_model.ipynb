{
 "cells": [
  {
   "cell_type": "code",
   "execution_count": null,
   "metadata": {
    "vscode": {
     "languageId": "plaintext"
    }
   },
   "outputs": [],
   "source": [
    "# 02_regression_model.ipynb\n",
    "\n",
    "# Importing necessary libraries\n",
    "import pandas as pd\n",
    "import numpy as np\n",
    "import statsmodels.api as sm\n",
    "import yfinance as yf\n",
    "\n",
    "# Load the preprocessed data\n",
    "data = pd.read_csv('processed_aapl_data.csv', index_col='Date', parse_dates=True)\n",
    "\n",
    "# Feature Engineering: Using moving averages and the previous day's closing price as features\n",
    "data['Prev_Close'] = data['Close'].shift(1)\n",
    "data = data.dropna()\n",
    "\n",
    "# Define the independent and dependent variables\n",
    "X = data[['Prev_Close', 'SMA_50', 'SMA_200']]\n",
    "y = data['Close']\n",
    "\n",
    "# Adding a constant to the independent variables for the intercept in the regression\n",
    "X = sm.add_constant(X)\n",
    "\n",
    "# Fit the linear regression model\n",
    "model = sm.OLS(y, X).fit()\n",
    "\n",
    "# Model Summary\n",
    "print(model.summary())\n",
    "\n",
    "# Predicting the stock price using the model\n",
    "data['Predicted_Close'] = model.predict(X)\n",
    "\n",
    "# Plotting the actual vs predicted closing prices\n",
    "import matplotlib.pyplot as plt\n",
    "plt.figure(figsize=(12,6))\n",
    "plt.plot(data['Close'], label='Actual Close')\n",
    "plt.plot(data['Predicted_Close'], label='Predicted Close', linestyle='--')\n",
    "plt.title('Actual vs Predicted AAPL Closing Prices')\n",
    "plt.legend(loc='best')\n",
    "plt.show()\n"
   ]
  }
 ],
 "metadata": {
  "language_info": {
   "name": "python"
  }
 },
 "nbformat": 4,
 "nbformat_minor": 2
}
