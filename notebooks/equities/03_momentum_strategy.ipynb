{
 "cells": [
  {
   "cell_type": "code",
   "execution_count": null,
   "metadata": {
    "vscode": {
     "languageId": "plaintext"
    }
   },
   "outputs": [],
   "source": [
    "# 03_momentum_strategy.ipynb\n",
    "\n",
    "# Importing necessary libraries\n",
    "import pandas as pd\n",
    "import yfinance as yf\n",
    "import numpy as np\n",
    "import matplotlib.pyplot as plt\n",
    "\n",
    "# Downloading sample stock data (e.g., Apple stock)\n",
    "data = yf.download('AAPL', start='2024-01-01', end='2025-01-01')\n",
    "\n",
    "# Calculate momentum using the relative strength index (RSI)\n",
    "def compute_rsi(data, window=14):\n",
    "    delta = data['Close'].diff()\n",
    "    gain = (delta.where(delta > 0, 0)).rolling(window=window).mean()\n",
    "    loss = (-delta.where(delta < 0, 0)).rolling(window=window).mean()\n",
    "    rs = gain / loss\n",
    "    rsi = 100 - (100 / (1 + rs))\n",
    "    return rsi\n",
    "\n",
    "# Adding the RSI to the data\n",
    "data['RSI'] = compute_rsi(data)\n",
    "\n",
    "# Defining the strategy: Buy if RSI < 30 (oversold), sell if RSI > 70 (overbought)\n",
    "data['Signal'] = np.where(data['RSI'] < 30, 1, np.where(data['RSI'] > 70, -1, 0))\n",
    "\n",
    "# Simulating a simple trading strategy\n",
    "data['Daily_Return'] = data['Close'].pct_change()\n",
    "data['Strategy_Return'] = data['Signal'].shift(1) * data['Daily_Return']  # Strategy uses previous day's signal\n",
    "\n",
    "# Calculate the cumulative returns of the strategy\n",
    "data['Cumulative_Return'] = (1 + data['Strategy_Return']).cumprod()\n",
    "\n",
    "# Plotting the strategy's cumulative return vs stock price\n",
    "plt.figure(figsize=(12,6))\n",
    "plt.plot(data['Cumulative_Return'], label='Strategy Cumulative Return')\n",
    "plt.plot((1 + data['Daily_Return']).cumprod(), label='Stock Cumulative Return', alpha=0.7)\n",
    "plt.title('Momentum Strategy vs Stock Performance')\n",
    "plt.legend(loc='best')\n",
    "plt.show()\n"
   ]
  }
 ],
 "metadata": {
  "language_info": {
   "name": "python"
  }
 },
 "nbformat": 4,
 "nbformat_minor": 2
}
