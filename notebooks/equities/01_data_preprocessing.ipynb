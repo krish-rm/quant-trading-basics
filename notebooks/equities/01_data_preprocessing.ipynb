{
 "cells": [
  {
   "cell_type": "code",
   "execution_count": null,
   "metadata": {
    "vscode": {
     "languageId": "plaintext"
    }
   },
   "outputs": [],
   "source": [
    "# 01_data_preprocessing.ipynb\n",
    "\n",
    "# Importing necessary libraries\n",
    "import pandas as pd\n",
    "import yfinance as yf\n",
    "import matplotlib.pyplot as plt\n",
    "\n",
    "# Downloading sample stock data (e.g., Apple stock for the past 1 year)\n",
    "data = yf.download('AAPL', start='2024-01-01', end='2025-01-01')\n",
    "\n",
    "# Display the first few rows of the data\n",
    "data.head()\n",
    "\n",
    "# Preprocessing the data: Handling missing values\n",
    "data = data.fillna(method='ffill')\n",
    "\n",
    "# Adding additional columns: Moving Averages\n",
    "data['SMA_50'] = data['Close'].rolling(window=50).mean()  # 50-day moving average\n",
    "data['SMA_200'] = data['Close'].rolling(window=200).mean()  # 200-day moving average\n",
    "\n",
    "# Visualizing the data with moving averages\n",
    "plt.figure(figsize=(12,6))\n",
    "plt.plot(data['Close'], label='Closing Price')\n",
    "plt.plot(data['SMA_50'], label='50-Day Moving Average', alpha=0.7)\n",
    "plt.plot(data['SMA_200'], label='200-Day Moving Average', alpha=0.7)\n",
    "plt.title('AAPL Stock Price and Moving Averages')\n",
    "plt.legend(loc='best')\n",
    "plt.show()\n",
    "\n",
    "# Saving processed data for further use\n",
    "data.to_csv('processed_aapl_data.csv')\n"
   ]
  }
 ],
 "metadata": {
  "language_info": {
   "name": "python"
  }
 },
 "nbformat": 4,
 "nbformat_minor": 2
}
